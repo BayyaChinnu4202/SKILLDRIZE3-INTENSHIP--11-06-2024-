{
  "nbformat": 4,
  "nbformat_minor": 0,
  "metadata": {
    "colab": {
      "provenance": [],
      "authorship_tag": "ABX9TyO3VNkb6gitab5RrXiA3O+x",
      "include_colab_link": true
    },
    "kernelspec": {
      "name": "python3",
      "display_name": "Python 3"
    },
    "language_info": {
      "name": "python"
    }
  },
  "cells": [
    {
      "cell_type": "markdown",
      "metadata": {
        "id": "view-in-github",
        "colab_type": "text"
      },
      "source": [
        "<a href=\"https://colab.research.google.com/github/BayyaChinnu4202/SKILLDRIZE3-INTENSHIP--11-06-2024-/blob/main/Untitled15.ipynb\" target=\"_parent\"><img src=\"https://colab.research.google.com/assets/colab-badge.svg\" alt=\"Open In Colab\"/></a>"
      ]
    },
    {
      "cell_type": "markdown",
      "source": [
        "11-06-2024"
      ],
      "metadata": {
        "id": "OQi_ScVoTpoE"
      }
    },
    {
      "cell_type": "code",
      "source": [
        "L=[10,20,30,40]"
      ],
      "metadata": {
        "id": "2bpxnpE6TuEr"
      },
      "execution_count": 1,
      "outputs": []
    },
    {
      "cell_type": "code",
      "source": [
        "#Accessing or Printing\n",
        "print(L[0])\n",
        "print(L[1])\n"
      ],
      "metadata": {
        "colab": {
          "base_uri": "https://localhost:8080/"
        },
        "id": "gOnNvC2QT3mc",
        "outputId": "184b91b4-aa7b-4562-8e6e-a4feb685f353"
      },
      "execution_count": 2,
      "outputs": [
        {
          "output_type": "stream",
          "name": "stdout",
          "text": [
            "10\n",
            "20\n"
          ]
        }
      ]
    },
    {
      "cell_type": "code",
      "source": [
        "print(L[-1])\n",
        "print(L[-2])"
      ],
      "metadata": {
        "colab": {
          "base_uri": "https://localhost:8080/"
        },
        "id": "A0SZSTYMUama",
        "outputId": "fa7db6bb-fb31-4763-a5e6-ed18261e334e"
      },
      "execution_count": 3,
      "outputs": [
        {
          "output_type": "stream",
          "name": "stdout",
          "text": [
            "40\n",
            "30\n"
          ]
        }
      ]
    },
    {
      "cell_type": "markdown",
      "source": [
        "PENDING"
      ],
      "metadata": {
        "id": "txdKgT5gcJwO"
      }
    },
    {
      "cell_type": "code",
      "source": [],
      "metadata": {
        "id": "xJg9DWq9cMvg"
      },
      "execution_count": null,
      "outputs": []
    }
  ]
}